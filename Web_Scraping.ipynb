{
  "nbformat": 4,
  "nbformat_minor": 0,
  "metadata": {
    "colab": {
      "provenance": []
    },
    "kernelspec": {
      "name": "python3",
      "display_name": "Python 3"
    },
    "language_info": {
      "name": "python"
    }
  },
  "cells": [
    {
      "cell_type": "markdown",
      "source": [
        "# Web Scraping With Python Beautiful Soup\n",
        "Beautiful is python librery for scraping the web and processing xml and html doucumention\n",
        "It is tool is used to retrive data from website\n",
        "\n",
        "**Feature**\n",
        "\n",
        "1.   Html and XML Parsing\n",
        "2.   SEarch and Filter\n",
        "3.   Encoding Dectection\n",
        "4.   Robust Error Handling\n",
        "5.   Beautiful the output:\n",
        "6.   cross-version support\n",
        "7.   coordination with other liberraies\n",
        "\n",
        "Flow of Scraping\n",
        "  Data calling\n",
        "  importing bs4 & beautiful soup\n",
        "  soup=Beautifulsoup(html_doc,'html.parser')\n",
        "  conecting with htl doc\n",
        "  using metod so find_all\n",
        "  printing operation/filler data\n"
      ],
      "metadata": {
        "id": "YRAmM2wKIAHQ"
      }
    },
    {
      "cell_type": "code",
      "source": [
        " #from bs4  import Beautifulsoup\n",
        "\n",
        "soup.find(): This method is used to find the first occurrence of a specified HTML tag in the BeautifulSoup object.\n",
        " You can search for tags based on their name, attributes, and text content.\n",
        "\n",
        "soup.find_all(): This method is used to find all occurrences of a specified HTML tag in the BeautifulSoup object.\n",
        " You can search for tags based on their name, attributes, and text content.\n",
        "\n",
        "soup.select(): This method is used to select HTML elements based on CSS selectors.\n",
        " You can use CSS selectors to select tags based on their attributes, class names, and parent-child relationships.\n",
        "\n",
        "soup.get_text(): This method is used to extract the text content of an HTML document.\n",
        "It returns all the text in the document, including the text inside tags.\n",
        "\n",
        "soup.prettify(): This method is used to format the HTML document in a human-readable way.\n",
        " It adds line breaks and indentation to the document to make it easier to read.\n",
        "\n",
        "soup.contents: This method returns a list of all the direct child elements of an HTML tag.\n",
        "It can be used to iterate over the child elements of a tag and extract their contents.\n",
        "\n",
        "soup.parent: This method returns the parent element of an HTML tag.\n",
        " It can be used to navigate up the HTML document and extract information from parent elements.\n",
        "\n",
        "soup.next_sibling: This method returns the next sibling element of an HTML tag.\n",
        " It can be used to navigate to the next sibling element and extract information from it.\n",
        "\n",
        "soup.previous_sibling: This method returns the previous sibling element of an HTML tag.\n",
        " It can be used to navigate to the previous sibling element and extract information from it."
      ],
      "metadata": {
        "id": "sXBon9-3MJQe"
      },
      "execution_count": null,
      "outputs": []
    },
    {
      "cell_type": "markdown",
      "source": [
        "Crating Html doc by pasting html fiel code inside the variable html_doc"
      ],
      "metadata": {
        "id": "7K2vCR74Mvm3"
      }
    },
    {
      "cell_type": "code",
      "source": [
        "html_doc = \"\"\"\n",
        "<html>\n",
        "<head>\n",
        "<title>My Website</title>\n",
        "</head>\n",
        "<body>\n",
        "<div id=\"content\">\n",
        "<h1>Welcome to my website!</h1>\n",
        "<p>This is a paragraph of text.</p>\n",
        "<a href=\"http://www.google.com\">Google</a>\n",
        "</div>\n",
        "<div id=\"content2\">\n",
        "<h1>zingalala</h1>\n",
        "</div>\n",
        "</body>\n",
        "</html>\n",
        "\"\"\""
      ],
      "metadata": {
        "id": "nDyPZrcgMmil"
      },
      "execution_count": 1,
      "outputs": []
    },
    {
      "cell_type": "code",
      "source": [
        "from bs4 import BeautifulSoup\n",
        "soup=BeautifulSoup(html_doc,'html.parser')\n",
        "#connected page data to html parser and getting soup object\n",
        "div_tags=soup.find_all('div')#list\n",
        "for item in div_tags:#taken one item at a time\n",
        "    #print(item.text)#item has.text\n",
        "    print(item)\n",
        "print(\"Only text\")\n",
        "for item in div_tags:#taken one item at a time\n",
        "    print(item.text)#item has.text"
      ],
      "metadata": {
        "colab": {
          "base_uri": "https://localhost:8080/"
        },
        "id": "F1l0PfL-M6jl",
        "outputId": "eda8be41-3cf7-4704-80eb-77d23b2de502"
      },
      "execution_count": 2,
      "outputs": [
        {
          "output_type": "stream",
          "name": "stdout",
          "text": [
            "<div id=\"content\">\n",
            "<h1>Welcome to my website!</h1>\n",
            "<p>This is a paragraph of text.</p>\n",
            "<a href=\"http://www.google.com\">Google</a>\n",
            "</div>\n",
            "<div id=\"content2\">\n",
            "<h1>zingalala</h1>\n",
            "</div>\n",
            "Only text\n",
            "\n",
            "Welcome to my website!\n",
            "This is a paragraph of text.\n",
            "Google\n",
            "\n",
            "\n",
            "zingalala\n",
            "\n"
          ]
        }
      ]
    },
    {
      "cell_type": "markdown",
      "source": [
        "Like this we can scrap data from various html site which are open to share ther html code\n",
        "here i created list of site inside h2 haeding"
      ],
      "metadata": {
        "id": "h6VAeMSuNPyW"
      }
    },
    {
      "cell_type": "code",
      "source": [
        "cities='''\n",
        "<!DOCTYPE html>\n",
        "<html lang=\"en\">\n",
        "<head>\n",
        "    <meta charset=\"UTF-8\">\n",
        "    <meta name=\"viewport\" content=\"width=device-width, initial-scale=1.0\">\n",
        "    <title>Indian States and Cities</title>\n",
        "    <style>\n",
        "        body {\n",
        "            font-family: Arial, sans-serif;\n",
        "            margin: 20px;\n",
        "            padding: 20px;\n",
        "        }\n",
        "        h2 {\n",
        "            color: #007bff;\n",
        "        }\n",
        "    </style>\n",
        "</head>\n",
        "<body>\n",
        "    <h1>List of Cities in Each State of India</h1>\n",
        "    <ol>\n",
        "        <li>\n",
        "            <h2>Maharashtra</h2>\n",
        "            <ol>\n",
        "                <li>Mumbai</li>\n",
        "                <li>Pune</li>\n",
        "                <li>Nagpur</li>\n",
        "                <li>Nashik</li>\n",
        "                <li>Aurangabad</li>\n",
        "            </ol>\n",
        "        </li>\n",
        "        <li>\n",
        "            <h2>Karnataka</h2>\n",
        "            <ol>\n",
        "                <li>Bengaluru</li>\n",
        "                <li>Mysuru</li>\n",
        "                <li>Hubballi</li>\n",
        "                <li>Mangaluru</li>\n",
        "                <li>Belagavi</li>\n",
        "            </ol>\n",
        "        </li>\n",
        "        <li>\n",
        "            <h2>Tamil Nadu</h2>\n",
        "            <ol>\n",
        "                <li>Chennai</li>\n",
        "                <li>Coimbatore</li>\n",
        "                <li>Madurai</li>\n",
        "                <li>Tiruchirappalli</li>\n",
        "                <li>Salem</li>\n",
        "            </ol>\n",
        "        </li>\n",
        "        <li>\n",
        "            <h2>Uttar Pradesh</h2>\n",
        "            <ol>\n",
        "                <li>Lucknow</li>\n",
        "                <li>Kanpur</li>\n",
        "                <li>Varanasi</li>\n",
        "                <li>Agra</li>\n",
        "                <li>Meerut</li>\n",
        "            </ol>\n",
        "        </li>\n",
        "        <li>\n",
        "            <h2>West Bengal</h2>\n",
        "            <ol>\n",
        "                <li>Kolkata</li>\n",
        "                <li>Howrah</li>\n",
        "                <li>Darjeeling</li>\n",
        "                <li>Asansol</li>\n",
        "                <li>Siliguri</li>\n",
        "            </ol>\n",
        "        </li>\n",
        "    </ol>\n",
        "</body>\n",
        "</html>\n",
        "'''"
      ],
      "metadata": {
        "id": "Kz-MW4s0OGLx"
      },
      "execution_count": 3,
      "outputs": []
    },
    {
      "cell_type": "code",
      "source": [
        "from bs4 import BeautifulSoup\n",
        "soup=BeautifulSoup(cities,'html.parser')\n",
        "h2_tags=soup.find_all('h2')#list\n",
        "print(type(h2_tags))\n",
        "h2_list=list(h2_tags)\n",
        "print(h2_list)\n",
        "\n",
        "h2_list_text=[]\n",
        "for item in h2_tags:#taken one item at a time\n",
        "    h2_list_text.append(item.text)#item has.text\n",
        "print(h2_list_text)"
      ],
      "metadata": {
        "colab": {
          "base_uri": "https://localhost:8080/"
        },
        "id": "CwyyMKxSOM7d",
        "outputId": "61e13349-c347-48ac-da65-a579b4bc4a77"
      },
      "execution_count": 4,
      "outputs": [
        {
          "output_type": "stream",
          "name": "stdout",
          "text": [
            "<class 'bs4.element.ResultSet'>\n",
            "[<h2>Maharashtra</h2>, <h2>Karnataka</h2>, <h2>Tamil Nadu</h2>, <h2>Uttar Pradesh</h2>, <h2>West Bengal</h2>]\n",
            "['Maharashtra', 'Karnataka', 'Tamil Nadu', 'Uttar Pradesh', 'West Bengal']\n"
          ]
        }
      ]
    },
    {
      "cell_type": "code",
      "source": [
        "from bs4 import BeautifulSoup\n",
        "soup=BeautifulSoup(cities,'html.parser')\n",
        "count=0\n",
        "li_tags=soup.find_all('li')#list\n",
        "for li_tag in li_tags:\n",
        "    h2_within=li_tag.find(\"h2\")\n",
        "    if h2_within:\n",
        "        count+=1\n",
        "        print(count,\"State:\",h2_within.text)\n",
        "        li_within_tags=li_tag.find_all('li')\n",
        "        print(\"total cities:\",len(li_within_tags))\n",
        "        for cities in li_within_tags:\n",
        "            print(\"->\",cities.text)\n",
        "\n",
        "\n"
      ],
      "metadata": {
        "colab": {
          "base_uri": "https://localhost:8080/"
        },
        "id": "CXi1DRgpOV7O",
        "outputId": "a6b11435-80f9-4cb3-a81d-2810d5072bc4"
      },
      "execution_count": 5,
      "outputs": [
        {
          "output_type": "stream",
          "name": "stdout",
          "text": [
            "1 State: Maharashtra\n",
            "total cities: 5\n",
            "-> Mumbai\n",
            "-> Pune\n",
            "-> Nagpur\n",
            "-> Nashik\n",
            "-> Aurangabad\n",
            "2 State: Karnataka\n",
            "total cities: 5\n",
            "-> Bengaluru\n",
            "-> Mysuru\n",
            "-> Hubballi\n",
            "-> Mangaluru\n",
            "-> Belagavi\n",
            "3 State: Tamil Nadu\n",
            "total cities: 5\n",
            "-> Chennai\n",
            "-> Coimbatore\n",
            "-> Madurai\n",
            "-> Tiruchirappalli\n",
            "-> Salem\n",
            "4 State: Uttar Pradesh\n",
            "total cities: 5\n",
            "-> Lucknow\n",
            "-> Kanpur\n",
            "-> Varanasi\n",
            "-> Agra\n",
            "-> Meerut\n",
            "5 State: West Bengal\n",
            "total cities: 5\n",
            "-> Kolkata\n",
            "-> Howrah\n",
            "-> Darjeeling\n",
            "-> Asansol\n",
            "-> Siliguri\n"
          ]
        }
      ]
    },
    {
      "cell_type": "code",
      "source": [
        "#give count of total states and cities in each state and total of cities"
      ],
      "metadata": {
        "id": "Ox6b3sr0O1j4"
      },
      "execution_count": null,
      "outputs": []
    }
  ]
}